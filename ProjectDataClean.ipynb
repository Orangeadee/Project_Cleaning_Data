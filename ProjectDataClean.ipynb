{
 "cells": [
  {
   "cell_type": "markdown",
   "id": "f2f03dab-5fe8-4509-a2e7-22f45ae0ae4a",
   "metadata": {},
   "source": [
    "# Loading Data"
   ]
  },
  {
   "cell_type": "code",
   "execution_count": 11,
   "id": "180fdec7-1717-4192-beab-69df7978f22d",
   "metadata": {},
   "outputs": [
    {
     "name": "stdout",
     "output_type": "stream",
     "text": [
      "['id', 'Podcast_Name', 'Episode_Title', 'Episode_Length_minutes', 'Genre', 'Host_Popularity_percentage', 'Publication_Day', 'Publication_Time', 'Guest_Popularity_percentage', 'Number_of_Ads', 'Episode_Sentiment', 'Listening_Time_minutes']\n",
      "(5, 12)\n",
      "   id     Podcast_Name Episode_Title  Episode_Length_minutes       Genre  \\\n",
      "0   0  Mystery Matters    Episode 98                     NaN  True Crime   \n",
      "1   1    Joke Junction    Episode 26                  119.80      Comedy   \n",
      "2   2   Study Sessions    Episode 16                   73.90   Education   \n",
      "3   3   Digital Digest    Episode 45                   67.17  Technology   \n",
      "4   4      Mind & Body    Episode 86                  110.51      Health   \n",
      "\n",
      "   Host_Popularity_percentage Publication_Day Publication_Time  \\\n",
      "0                       74.81        Thursday            Night   \n",
      "1                       66.95        Saturday        Afternoon   \n",
      "2                       69.97         Tuesday          Evening   \n",
      "3                       57.22          Monday          Morning   \n",
      "4                       80.07          Monday        Afternoon   \n",
      "\n",
      "   Guest_Popularity_percentage  Number_of_Ads Episode_Sentiment  \\\n",
      "0                          NaN            0.0          Positive   \n",
      "1                        75.95            2.0          Negative   \n",
      "2                         8.97            0.0          Negative   \n",
      "3                        78.70            2.0          Positive   \n",
      "4                        58.68            3.0           Neutral   \n",
      "\n",
      "   Listening_Time_minutes  \n",
      "0                31.41998  \n",
      "1                88.01241  \n",
      "2                44.92531  \n",
      "3                46.27824  \n",
      "4                75.61031  \n",
      "<class 'pandas.core.frame.DataFrame'>\n",
      "RangeIndex: 5 entries, 0 to 4\n",
      "Data columns (total 12 columns):\n",
      " #   Column                       Non-Null Count  Dtype  \n",
      "---  ------                       --------------  -----  \n",
      " 0   id                           5 non-null      int64  \n",
      " 1   Podcast_Name                 5 non-null      object \n",
      " 2   Episode_Title                5 non-null      object \n",
      " 3   Episode_Length_minutes       4 non-null      float64\n",
      " 4   Genre                        5 non-null      object \n",
      " 5   Host_Popularity_percentage   5 non-null      float64\n",
      " 6   Publication_Day              5 non-null      object \n",
      " 7   Publication_Time             5 non-null      object \n",
      " 8   Guest_Popularity_percentage  4 non-null      float64\n",
      " 9   Number_of_Ads                5 non-null      float64\n",
      " 10  Episode_Sentiment            5 non-null      object \n",
      " 11  Listening_Time_minutes       5 non-null      float64\n",
      "dtypes: float64(5), int64(1), object(6)\n",
      "memory usage: 612.0+ bytes\n",
      "None\n"
     ]
    }
   ],
   "source": [
    "import pandas as pd\n",
    "\n",
    "import pandas as pd\n",
    "train = pd.read_csv(r\"Data/train.csv\", nrows=5)\n",
    "\n",
    "print(train.columns.tolist())\n",
    "print(train.shape)\n",
    "print(train.head())\n",
    "print(train.info())\n"
   ]
  },
  {
   "cell_type": "code",
   "execution_count": 12,
   "id": "c69817d3-ab4d-4192-9eb3-e48c0db32eb7",
   "metadata": {},
   "outputs": [
    {
     "name": "stdout",
     "output_type": "stream",
     "text": [
      "['id', 'Podcast_Name', 'Episode_Title', 'Episode_Length_minutes', 'Genre', 'Host_Popularity_percentage', 'Publication_Day', 'Publication_Time', 'Guest_Popularity_percentage', 'Number_of_Ads', 'Episode_Sentiment']\n",
      "(5, 11)\n",
      "       id         Podcast_Name Episode_Title  Episode_Length_minutes  \\\n",
      "0  750000  Educational Nuggets    Episode 73                   78.96   \n",
      "1  750001          Sound Waves    Episode 23                   27.87   \n",
      "2  750002        Joke Junction    Episode 11                   69.10   \n",
      "3  750003        Comedy Corner    Episode 73                  115.39   \n",
      "4  750004         Life Lessons    Episode 50                   72.32   \n",
      "\n",
      "       Genre  Host_Popularity_percentage Publication_Day Publication_Time  \\\n",
      "0  Education                       38.11        Saturday          Evening   \n",
      "1      Music                       71.29          Sunday          Morning   \n",
      "2     Comedy                       67.89          Friday          Evening   \n",
      "3     Comedy                       23.40          Sunday          Morning   \n",
      "4  Lifestyle                       58.10       Wednesday          Morning   \n",
      "\n",
      "   Guest_Popularity_percentage  Number_of_Ads Episode_Sentiment  \n",
      "0                        53.33            1.0           Neutral  \n",
      "1                          NaN            0.0           Neutral  \n",
      "2                        97.51            0.0          Positive  \n",
      "3                        51.75            2.0          Positive  \n",
      "4                        11.30            2.0           Neutral  \n",
      "<class 'pandas.core.frame.DataFrame'>\n",
      "RangeIndex: 5 entries, 0 to 4\n",
      "Data columns (total 11 columns):\n",
      " #   Column                       Non-Null Count  Dtype  \n",
      "---  ------                       --------------  -----  \n",
      " 0   id                           5 non-null      int64  \n",
      " 1   Podcast_Name                 5 non-null      object \n",
      " 2   Episode_Title                5 non-null      object \n",
      " 3   Episode_Length_minutes       5 non-null      float64\n",
      " 4   Genre                        5 non-null      object \n",
      " 5   Host_Popularity_percentage   5 non-null      float64\n",
      " 6   Publication_Day              5 non-null      object \n",
      " 7   Publication_Time             5 non-null      object \n",
      " 8   Guest_Popularity_percentage  4 non-null      float64\n",
      " 9   Number_of_Ads                5 non-null      float64\n",
      " 10  Episode_Sentiment            5 non-null      object \n",
      "dtypes: float64(4), int64(1), object(6)\n",
      "memory usage: 572.0+ bytes\n",
      "None\n"
     ]
    }
   ],
   "source": [
    "test = pd.read_csv(r\"Data/test.csv\", nrows=5)\n",
    "print(test.columns.tolist())\n",
    "print(test.shape)\n",
    "print(test.head())\n",
    "print(test.info())"
   ]
  },
  {
   "cell_type": "markdown",
   "id": "642e2e4f-94db-4fe1-853f-3c00f44736da",
   "metadata": {},
   "source": [
    "# Cleaning Data\n",
    "## Things to do:\n",
    "- Compare columns and remove the label column before finding missing columns\n",
    "- Find duplicates and remove them\n",
    "- Find missing columns and fill them up\n",
    "- Align train and test data have the same columns\n",
    "- Save the cleaned data"
   ]
  },
  {
   "cell_type": "code",
   "execution_count": 17,
   "id": "c7cf58a0-0cb2-4527-84f0-99d419b25cfc",
   "metadata": {},
   "outputs": [
    {
     "name": "stdout",
     "output_type": "stream",
     "text": [
      "Columns only in train: {'Listening_Time_minutes'}\n"
     ]
    }
   ],
   "source": [
    "# compare columns\n",
    "train_cols = set(train.columns)\n",
    "test_cols = set(test.columns)\n",
    "\n",
    "print(\"Columns only in train:\", train_cols - test_cols)\n",
    "\n",
    "label_col = 'Listening_Time_minutes'"
   ]
  },
  {
   "cell_type": "code",
   "execution_count": 23,
   "id": "b3a70513-93e2-4dda-81d7-1a0e227cb205",
   "metadata": {},
   "outputs": [
    {
     "name": "stdout",
     "output_type": "stream",
     "text": [
      "Cleaned data saved successfully: \n",
      "Data/clean_train.csv\n",
      "Data/clean_test.csv\n",
      "\n",
      "['id', 'Podcast_Name', 'Episode_Title', 'Episode_Length_minutes', 'Genre', 'Host_Popularity_percentage', 'Publication_Day', 'Publication_Time', 'Guest_Popularity_percentage', 'Number_of_Ads', 'Episode_Sentiment', 'Listening_Time_minutes']\n",
      "   id     Podcast_Name Episode_Title  Episode_Length_minutes       Genre  \\\n",
      "0   0  Mystery Matters    Episode 98                  92.205  True Crime   \n",
      "1   1    Joke Junction    Episode 26                 119.800      Comedy   \n",
      "2   2   Study Sessions    Episode 16                  73.900   Education   \n",
      "3   3   Digital Digest    Episode 45                  67.170  Technology   \n",
      "4   4      Mind & Body    Episode 86                 110.510      Health   \n",
      "\n",
      "   Host_Popularity_percentage Publication_Day Publication_Time  \\\n",
      "0                       74.81        Thursday            Night   \n",
      "1                       66.95        Saturday        Afternoon   \n",
      "2                       69.97         Tuesday          Evening   \n",
      "3                       57.22          Monday          Morning   \n",
      "4                       80.07          Monday        Afternoon   \n",
      "\n",
      "   Guest_Popularity_percentage  Number_of_Ads Episode_Sentiment  \\\n",
      "0                       67.315            0.0          Positive   \n",
      "1                       75.950            2.0          Negative   \n",
      "2                        8.970            0.0          Negative   \n",
      "3                       78.700            2.0          Positive   \n",
      "4                       58.680            3.0           Neutral   \n",
      "\n",
      "   Listening_Time_minutes  \n",
      "0                31.41998  \n",
      "1                88.01241  \n",
      "2                44.92531  \n",
      "3                46.27824  \n",
      "4                75.61031  \n"
     ]
    }
   ],
   "source": [
    "# Check duplicates & remove them\n",
    "train = train.drop_duplicates()\n",
    "\n",
    "# remove the label col\n",
    "feature_cols = [col for col in train.columns if col != label_col]\n",
    "\n",
    "# Find missing columns\n",
    "for col in feature_cols:\n",
    "    # if it's numeric\n",
    "    if train[col].dtype != \"object\":\n",
    "        median = train[col].median()\n",
    "        # fill in NAN only\n",
    "        train[col] = train[col].fillna(median)\n",
    "        test[col] = test[col].fillna(median)\n",
    "    else:\n",
    "        # get the most frequent value\n",
    "        mode = train[col].mode()[0]\n",
    "        # fill in NAN only\n",
    "        train[col] = train[col].fillna(mode)\n",
    "        test[col] = test[col].fillna(mode)\n",
    "        \n",
    "\n",
    "# Align train/test data\n",
    "train, test = train.align(test, join=\"left\", axis=1, fill_value=0)\n",
    "\n",
    "# Save the cleaned data\n",
    "train.to_csv(\"Data/clean_train.csv\", index=False)\n",
    "test.to_csv(\"Data/clean_test.csv\", index=False)\n",
    "\n",
    "print('Cleaned data saved successfully: \\nData/clean_train.csv\\nData/clean_test.csv\\n')\n",
    "\n",
    "\n",
    "\n",
    "clean_train = pd.read_csv(r\"Data/clean_train.csv\", nrows=5)\n",
    "clean_test = pd.read_csv(r\"Data/clean_test.csv\", nrows=5)\n",
    "\n",
    "print(clean_train.columns.tolist())\n",
    "print(clean_train.head())\n"
   ]
  },
  {
   "cell_type": "code",
   "execution_count": 21,
   "id": "477fb869-c35f-4d28-bc05-22500a023e51",
   "metadata": {},
   "outputs": [
    {
     "name": "stdout",
     "output_type": "stream",
     "text": [
      "['id', 'Podcast_Name', 'Episode_Title', 'Episode_Length_minutes', 'Genre', 'Host_Popularity_percentage', 'Publication_Day', 'Publication_Time', 'Guest_Popularity_percentage', 'Number_of_Ads', 'Episode_Sentiment', 'Listening_Time_minutes']\n",
      "       id         Podcast_Name Episode_Title  Episode_Length_minutes  \\\n",
      "0  750000  Educational Nuggets    Episode 73                   78.96   \n",
      "1  750001          Sound Waves    Episode 23                   27.87   \n",
      "2  750002        Joke Junction    Episode 11                   69.10   \n",
      "3  750003        Comedy Corner    Episode 73                  115.39   \n",
      "4  750004         Life Lessons    Episode 50                   72.32   \n",
      "\n",
      "       Genre  Host_Popularity_percentage Publication_Day Publication_Time  \\\n",
      "0  Education                       38.11        Saturday          Evening   \n",
      "1      Music                       71.29          Sunday          Morning   \n",
      "2     Comedy                       67.89          Friday          Evening   \n",
      "3     Comedy                       23.40          Sunday          Morning   \n",
      "4  Lifestyle                       58.10       Wednesday          Morning   \n",
      "\n",
      "   Guest_Popularity_percentage  Number_of_Ads Episode_Sentiment  \\\n",
      "0                       53.330            1.0           Neutral   \n",
      "1                       67.315            0.0           Neutral   \n",
      "2                       97.510            0.0          Positive   \n",
      "3                       51.750            2.0          Positive   \n",
      "4                       11.300            2.0           Neutral   \n",
      "\n",
      "   Listening_Time_minutes  \n",
      "0                       0  \n",
      "1                       0  \n",
      "2                       0  \n",
      "3                       0  \n",
      "4                       0  \n"
     ]
    }
   ],
   "source": [
    "print(clean_test.columns.tolist())\n",
    "print(clean_test.head())"
   ]
  },
  {
   "cell_type": "code",
   "execution_count": null,
   "id": "dae5ae65-3460-49ea-ae70-2902ca36707f",
   "metadata": {},
   "outputs": [],
   "source": []
  }
 ],
 "metadata": {
  "kernelspec": {
   "display_name": "Python 3 (ipykernel)",
   "language": "python",
   "name": "python3"
  },
  "language_info": {
   "codemirror_mode": {
    "name": "ipython",
    "version": 3
   },
   "file_extension": ".py",
   "mimetype": "text/x-python",
   "name": "python",
   "nbconvert_exporter": "python",
   "pygments_lexer": "ipython3",
   "version": "3.13.5"
  }
 },
 "nbformat": 4,
 "nbformat_minor": 5
}
